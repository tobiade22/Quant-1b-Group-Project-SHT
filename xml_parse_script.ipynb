{
 "cells": [
  {
   "cell_type": "code",
   "execution_count": 1,
   "metadata": {},
   "outputs": [],
   "source": [
    "import numpy as np\n",
    "import pandas as pd\n",
    "import xml.etree.ElementTree as ET"
   ]
  },
  {
   "cell_type": "markdown",
   "metadata": {},
   "source": [
    "#Gve every entry a tag with the corresponding name\n",
    "So I need to create a function that can take in the xml. data and give each entry a name, create a dictionary for each entry and then add that dictionary to a list\n",
    "\n",
    "So what signifiers can I use?\n",
    "- regmem (personid, member name)\n",
    "- category (type, description of category)\n",
    "- record -> item (Name of donor, Amount, date received, date accepted, donar status, registered)\n",
    "- type 4 record -> item (Name of donor, Estimate of probable value, Destination of visit, Dates of visit, Purpose of visit, registered)"
   ]
  }
 ],
 "metadata": {
  "kernelspec": {
   "display_name": "Python 3",
   "language": "python",
   "name": "python3"
  },
  "language_info": {
   "codemirror_mode": {
    "name": "ipython",
    "version": 3
   },
   "file_extension": ".py",
   "mimetype": "text/x-python",
   "name": "python",
   "nbconvert_exporter": "python",
   "pygments_lexer": "ipython3",
   "version": "3.11.7"
  }
 },
 "nbformat": 4,
 "nbformat_minor": 2
}
